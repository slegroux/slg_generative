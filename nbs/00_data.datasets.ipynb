{
 "cells": [
  {
   "cell_type": "markdown",
   "metadata": {},
   "source": [
    "# Datasets\n",
    "> Example of datasets to train generative models on"
   ]
  },
  {
   "cell_type": "code",
   "execution_count": null,
   "metadata": {},
   "outputs": [],
   "source": [
    "#| default_exp data.datasets"
   ]
  },
  {
   "cell_type": "code",
   "execution_count": null,
   "metadata": {},
   "outputs": [],
   "source": [
    "#| hide\n",
    "%load_ext autoreload\n",
    "%autoreload 2\n",
    "from nbdev.showdoc import *\n"
   ]
  },
  {
   "cell_type": "code",
   "execution_count": null,
   "metadata": {},
   "outputs": [
    {
     "name": "stderr",
     "output_type": "stream",
     "text": [
      "/Users/syl20/mambaforge/lib/python3.10/site-packages/tqdm/auto.py:22: TqdmWarning: IProgress not found. Please update jupyter and ipywidgets. See https://ipywidgets.readthedocs.io/en/stable/user_install.html\n",
      "  from .autonotebook import tqdm as notebook_tqdm\n"
     ]
    }
   ],
   "source": [
    "#| export\n",
    "import pandas as pd\n",
    "import torchvision\n",
    "from torch.utils.data import Dataset, DataLoader\n",
    "import torch\n",
    "from matplotlib import pyplot as plt\n"
   ]
  },
  {
   "cell_type": "code",
   "execution_count": null,
   "metadata": {},
   "outputs": [],
   "source": [
    "#| export\n",
    "class ImageDataset(Dataset):\n",
    "    \" Base class for image datasets providing visualization of (image, label) samples\"\n",
    "\n",
    "    def show(self,\n",
    "        index:int # Index of the (image,label) sample to visualize\n",
    "        ):\n",
    "        X, y = self.__getitem__(index)\n",
    "        plt.figure(figsize = (1, 1))\n",
    "        plt.imshow(X.numpy().reshape(28,28),cmap='gray')\n",
    "        plt.title(f\"Label: {int(y)}\")\n",
    "        plt.show()"
   ]
  },
  {
   "cell_type": "code",
   "execution_count": null,
   "metadata": {},
   "outputs": [],
   "source": [
    "#| export\n",
    "\n",
    "class MnistDataset(ImageDataset):\n",
    "    \"MNIST digit dataset\"\n",
    "\n",
    "    def __init__(self,\n",
    "        data_root:str='~/Data', # Path to data root folder\n",
    "        train=True, # Training (True) or Validation set(False),\n",
    "        transform=torchvision.transforms.ToTensor()\n",
    "        ):\n",
    "        super().__init__()\n",
    "        self.ds = torchvision.datasets.MNIST(\n",
    "            data_root,\n",
    "            train = train,\n",
    "            transform=transform, \n",
    "            download=True\n",
    "        )\n",
    "    def __len__(self):\n",
    "        return len(self.ds)\n",
    "    \n",
    "    def __getitem__(self, idx):\n",
    "        x = self.ds[idx][0].squeeze(0).flatten()\n",
    "        return x, self.ds.targets[idx]"
   ]
  },
  {
   "cell_type": "code",
   "execution_count": null,
   "metadata": {},
   "outputs": [
    {
     "name": "stdout",
     "output_type": "stream",
     "text": [
      "Number of samples in the dataset: 10000\n",
      "Shape of image: torch.Size([784]), corresponding digit: 7\n",
      "types: torch.FloatTensor, torch.LongTensor\n"
     ]
    },
    {
     "data": {
      "image/png": "[encoded data removed]",
      "text/plain": [
       "<Figure size 100x100 with 1 Axes>"
      ]
     },
     "metadata": {},
     "output_type": "display_data"
    }
   ],
   "source": [
    "ds = MnistDataset('~/Data', train=False)\n",
    "print(f\"Number of samples in the dataset: {len(ds)}\")\n",
    "X,y = ds[0]\n",
    "print(f\"Shape of image: {X.shape}, corresponding digit: {int(y)}\")\n",
    "print(f\"types: {X.type()}, {y.type()}\")\n",
    "\n",
    "ds.show(0)"
   ]
  },
  {
   "cell_type": "code",
   "execution_count": null,
   "metadata": {},
   "outputs": [],
   "source": [
    "#| export\n",
    "\n",
    "class FashionMnistDataset(ImageDataset):\n",
    "    \"Fashion MNIST Dataset\"\n",
    "    \n",
    "    def __init__(self, \n",
    "        csv_file:str # Path to csv data file\n",
    "        ):\n",
    "        super().__init__()\n",
    "        # read csv\n",
    "        self.train = pd.read_csv(csv_file)\n",
    "        # normalize data\n",
    "        X = self.train.iloc[:,1:].values / 255.\n",
    "        X = (X-0.5)/0.5\n",
    "        Y = self.train.iloc[:,0].values\n",
    "        # convert X to FloatTensor & Y to LongTensor\n",
    "        self.X, self.Y = torch.tensor(X, dtype=torch.float32) , torch.tensor(Y, dtype=torch.int64)\n",
    "    \n",
    "    def __len__(self):\n",
    "        return len(self.train)\n",
    "\n",
    "    def __getitem__(self, idx):\n",
    "        return (self.X[idx],  self.Y[idx])"
   ]
  },
  {
   "cell_type": "code",
   "execution_count": null,
   "metadata": {},
   "outputs": [
    {
     "name": "stdout",
     "output_type": "stream",
     "text": [
      "Number of samples in the dataset: 60000\n",
      "Shape of image: torch.Size([784]), corresponding label: Pullover\n"
     ]
    },
    {
     "data": {
      "image/png": "[encoded data removed]",
      "text/plain": [
       "<Figure size 100x100 with 1 Axes>"
      ]
     },
     "metadata": {},
     "output_type": "display_data"
    },
    {
     "name": "stdout",
     "output_type": "stream",
     "text": [
      "types of batch content: torch.FloatTensor, torch.LongTensor\n"
     ]
    }
   ],
   "source": [
    "map_labels = {\n",
    "  \"0\": \"T-shirt/top\", \"1\": \"Trouser\", \"2\": \"Pullover\", \"3\": \"Dress\",\n",
    "  \"4\": \"Coat\", \"5\": \"Sandal\", \"6\": \"Shirt\", \"7\": \"Sneaker\", \"8\": \"Bag\",\n",
    "  \"9\": \"Ankle boot\"\n",
    "}\n",
    "\n",
    "ds = FashionMnistDataset(csv_file=\"~/Data/fashion-mnist/fashion-mnist_train.csv\")\n",
    "print(f\"Number of samples in the dataset: {len(ds)}\")\n",
    "X,y = ds[0]\n",
    "\n",
    "print(f\"Shape of image: {X.shape}, corresponding label: {map_labels[str(int(y))]}\")\n",
    "ds.show(0)\n",
    "\n",
    "dl = torch.utils.data.DataLoader(ds, batch_size=128, shuffle=True)\n",
    "\n",
    "X, y = next(iter(dl))\n",
    "print(f\"types of batch content: {X.type()}, {y.type()}\")"
   ]
  },
  {
   "cell_type": "code",
   "execution_count": null,
   "metadata": {},
   "outputs": [],
   "source": [
    "#| hide\n",
    "import nbdev; nbdev.nbdev_export()"
   ]
  },
  {
   "cell_type": "code",
   "execution_count": null,
   "metadata": {},
   "outputs": [],
   "source": []
  }
 ],
 "metadata": {
  "kernelspec": {
   "display_name": "Python 3",
   "language": "python",
   "name": "python3"
  },
  "language_info": {
   "name": "python",
   "version": "3.10.8 (main, Oct 13 2022, 09:48:40) [Clang 14.0.0 (clang-1400.0.29.102)]"
  },
  "vscode": {
   "interpreter": {
    "hash": "b0fa6594d8f4cbf19f97940f81e996739fb7646882a419484c72d19e05852a7e"
   }
  }
 },
 "nbformat": 4,
 "nbformat_minor": 4
}
