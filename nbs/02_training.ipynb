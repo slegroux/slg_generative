{
 "cells": [
  {
   "cell_type": "markdown",
   "metadata": {},
   "source": [
    "# Training\n",
    "> training loop"
   ]
  },
  {
   "cell_type": "code",
   "execution_count": null,
   "metadata": {},
   "outputs": [],
   "source": [
    "#| default_exp training"
   ]
  },
  {
   "cell_type": "code",
   "execution_count": null,
   "metadata": {},
   "outputs": [],
   "source": [
    "#| hide\n",
    "%load_ext autoreload\n",
    "%autoreload 2\n",
    "from nbdev.showdoc import *"
   ]
  },
  {
   "cell_type": "code",
   "execution_count": null,
   "metadata": {},
   "outputs": [
    {
     "name": "stderr",
     "output_type": "stream",
     "text": [
      "/Users/syl20/mambaforge/lib/python3.10/site-packages/tqdm/auto.py:22: TqdmWarning: IProgress not found. Please update jupyter and ipywidgets. See https://ipywidgets.readthedocs.io/en/stable/user_install.html\n",
      "  from .autonotebook import tqdm as notebook_tqdm\n"
     ]
    }
   ],
   "source": [
    "#| export\n",
    "from slg_generative.models.vae import AutoEncoder\n",
    "from slg_generative.data.datasets import FashionMnistDataset\n",
    "from torch.utils.data import DataLoader\n",
    "from torch.optim import Adam\n",
    "import torch.nn as nn\n",
    "from tqdm import tqdm\n",
    "import torch\n",
    "from torch.utils.tensorboard import SummaryWriter\n",
    "from datetime import datetime"
   ]
  },
  {
   "cell_type": "code",
   "execution_count": null,
   "metadata": {},
   "outputs": [],
   "source": [
    "#| export\n",
    "\n",
    "class Trainer:\n",
    "    \"Trainer for VAE models\"\n",
    "\n",
    "    def __init__(self,\n",
    "        model:AutoEncoder, # Model\n",
    "        train_dataloader:torch.utils.data.DataLoader, # Train Dataloader\n",
    "        validation_dataloader:torch.utils.data.DataLoader, # Validation Dataloader\n",
    "        loss_func:torch.nn.modules.loss._Loss, # Loss function\n",
    "        optimizer:torch.optim.Optimizer, # Optimizer\n",
    "        n_epochs:int, # Number of training epochs\n",
    "        device:str # Device\n",
    "    ):\n",
    "        self.model = model\n",
    "        self.train_dataloader = train_dataloader\n",
    "        self.validation_dataloader = validation_dataloader\n",
    "        self.loss_func = loss_func\n",
    "        self.optimizer = optimizer\n",
    "        self.n_epochs = n_epochs\n",
    "        self.device = device\n",
    "        self.timestamp = datetime.now().strftime('%Y%m%d_%H%M%S')\n",
    "        self.writer = SummaryWriter(f\"runs/{self.timestamp}\")\n",
    "\n",
    "    def fit(self):\n",
    "        # training loop\n",
    "        running_loss = 0.\n",
    "        last_loss = 0.\n",
    "        n_batch_report = 100\n",
    "        best_vloss = 1_000_000.\n",
    "\n",
    "        for epoch in tqdm(range(self.n_epochs)):\n",
    "            self.model.train(True)\n",
    "            for batch_idx, (x, y) in enumerate(self.train_dataloader):\n",
    "                x = x.to(self.device)\n",
    "                self.optimizer.zero_grad()\n",
    "                x_hat = self.model(x)\n",
    "                loss = self.loss_func(x_hat, x)\n",
    "                loss.backward()\n",
    "                self.optimizer.step()\n",
    "                \n",
    "                if batch_idx % n_batch_report == (n_batch_report - 1):\n",
    "                    print('\\r Train Epoch: {}/{} [{}/{} ({:.0f}%)]\\tLoss: {:.6f}\\r'.format(\n",
    "                        epoch+1,\n",
    "                        self.n_epochs,\n",
    "                        batch_idx * len(x), \n",
    "                        len(self.train_dataloader.dataset),\n",
    "                        n_batch_report * batch_idx / len(self.train_dataloader), \n",
    "                        loss.item()), \n",
    "                        end='')\n",
    "                    sample_idx = epoch * len(self.train_dataloader) + batch_idx + 1\n",
    "                    self.writer.add_scalar('Loss/train', loss.item(), sample_idx)\n",
    "                    running_loss = 0\n",
    "\n",
    "            self.model.train(False)\n",
    "            running_vloss = 0.0\n",
    "            for i, (x, y) in enumerate(self.validation_dataloader):\n",
    "                x = x.to(self.device)\n",
    "                x_hat = self.model(x)\n",
    "                v_loss = self.loss_func(x_hat, x)\n",
    "                running_vloss += v_loss.item()\n",
    "            avg_vloss = running_vloss / (i + 1)\n",
    "            print('\\r Validion Loss: {}\\r'.format(avg_vloss))\n",
    "            self.writer.add_scalar('Loss/validation', avg_vloss, epoch + 1)\n",
    "            self.writer.flush()\n",
    "\n",
    "            if avg_vloss < best_vloss:\n",
    "                best_vloss = avg_vloss\n",
    "                model_path = f\"runs/{self.timestamp}/model_{epoch+1}.pt\"\n",
    "                torch.save(self.model.state_dict(), model_path)\n",
    "\n",
    "        return self.model\n"
   ]
  },
  {
   "cell_type": "code",
   "execution_count": null,
   "metadata": {},
   "outputs": [],
   "source": [
    "# device\n",
    "device = 'mps' if torch.backends.mps.is_available() else 'cpu' # or 'cuda' for nvidia gpus\n",
    "\n",
    "# data\n",
    "train_ds = FashionMnistDataset(csv_file=\"~/Data/fashion-mnist/fashion-mnist_train.csv\")\n",
    "train_dl = torch.utils.data.DataLoader(train_ds, batch_size=128, shuffle=True)\n",
    "test_ds = FashionMnistDataset(csv_file=\"~/Data/fashion-mnist/fashion-mnist_test.csv\")\n",
    "test_dl = torch.utils.data.DataLoader(test_ds, batch_size=128, shuffle=True)\n",
    "# model\n",
    "autoencoder = AutoEncoder().to(device)\n",
    "# training params\n",
    "n_epochs = 5\n",
    "# optim\n",
    "opt = Adam(autoencoder.parameters(), lr=1e-3)\n",
    "# # mean square error loss \n",
    "loss_func = nn.MSELoss()"
   ]
  },
  {
   "cell_type": "code",
   "execution_count": null,
   "metadata": {},
   "outputs": [
    {
     "name": "stderr",
     "output_type": "stream",
     "text": [
      "  0%|          | 0/20 [00:00<?, ?it/s]"
     ]
    },
    {
     "name": "stdout",
     "output_type": "stream",
     "text": [
      " Train Epoch: 1/20 [51072/60000 (85%)]\tLoss: 0.608026\r"
     ]
    },
    {
     "name": "stderr",
     "output_type": "stream",
     "text": [
      "  5%|▌         | 1/20 [00:02<00:52,  2.75s/it]"
     ]
    },
    {
     "name": "stdout",
     "output_type": "stream",
     "text": [
      " Validion Loss: 0.6283872451963304\n",
      " Train Epoch: 2/20 [51072/60000 (85%)]\tLoss: 0.634786\r"
     ]
    },
    {
     "name": "stderr",
     "output_type": "stream",
     "text": [
      " 10%|█         | 2/20 [00:05<00:49,  2.77s/it]"
     ]
    },
    {
     "name": "stdout",
     "output_type": "stream",
     "text": [
      " Validion Loss: 0.6230814268317404\n",
      " Train Epoch: 3/20 [51072/60000 (85%)]\tLoss: 0.613410\r"
     ]
    },
    {
     "name": "stderr",
     "output_type": "stream",
     "text": [
      " 15%|█▌        | 3/20 [00:08<00:47,  2.77s/it]"
     ]
    },
    {
     "name": "stdout",
     "output_type": "stream",
     "text": [
      " Validion Loss: 0.621926503845408\n",
      " Train Epoch: 4/20 [51072/60000 (85%)]\tLoss: 0.614229\r"
     ]
    },
    {
     "name": "stderr",
     "output_type": "stream",
     "text": [
      " 20%|██        | 4/20 [00:11<00:49,  3.07s/it]"
     ]
    },
    {
     "name": "stdout",
     "output_type": "stream",
     "text": [
      " Validion Loss: 0.6203305706193175\n",
      " Train Epoch: 5/20 [51072/60000 (85%)]\tLoss: 0.615765\r"
     ]
    },
    {
     "name": "stderr",
     "output_type": "stream",
     "text": [
      " 25%|██▌       | 5/20 [00:15<00:48,  3.25s/it]"
     ]
    },
    {
     "name": "stdout",
     "output_type": "stream",
     "text": [
      " Validion Loss: 0.6193617265435714\n",
      " Train Epoch: 6/20 [51072/60000 (85%)]\tLoss: 0.622439\r"
     ]
    },
    {
     "name": "stderr",
     "output_type": "stream",
     "text": [
      " 30%|███       | 6/20 [00:18<00:44,  3.18s/it]"
     ]
    },
    {
     "name": "stdout",
     "output_type": "stream",
     "text": [
      " Validion Loss: 0.6182164255576797\n",
      " Train Epoch: 7/20 [51072/60000 (85%)]\tLoss: 0.614843\r"
     ]
    },
    {
     "name": "stderr",
     "output_type": "stream",
     "text": [
      " 35%|███▌      | 7/20 [00:21<00:40,  3.13s/it]"
     ]
    },
    {
     "name": "stdout",
     "output_type": "stream",
     "text": [
      " Validion Loss: 0.6183422615256491\n",
      " Train Epoch: 8/20 [51072/60000 (85%)]\tLoss: 0.626013\r"
     ]
    },
    {
     "name": "stderr",
     "output_type": "stream",
     "text": [
      " 40%|████      | 8/20 [00:24<00:37,  3.10s/it]"
     ]
    },
    {
     "name": "stdout",
     "output_type": "stream",
     "text": [
      " Validion Loss: 0.6176317915131774\n",
      " Train Epoch: 9/20 [51072/60000 (85%)]\tLoss: 0.611943\r"
     ]
    },
    {
     "name": "stderr",
     "output_type": "stream",
     "text": [
      " 45%|████▌     | 9/20 [00:27<00:34,  3.18s/it]"
     ]
    },
    {
     "name": "stdout",
     "output_type": "stream",
     "text": [
      " Validion Loss: 0.6173656914807573\n",
      " Train Epoch: 10/20 [51072/60000 (85%)]\tLoss: 0.591853\r"
     ]
    },
    {
     "name": "stderr",
     "output_type": "stream",
     "text": [
      " 50%|█████     | 10/20 [00:30<00:31,  3.15s/it]"
     ]
    },
    {
     "name": "stdout",
     "output_type": "stream",
     "text": [
      " Validion Loss: 0.6174960664555996\n",
      " Train Epoch: 11/20 [51072/60000 (85%)]\tLoss: 0.594108\r"
     ]
    },
    {
     "name": "stderr",
     "output_type": "stream",
     "text": [
      " 55%|█████▌    | 11/20 [00:34<00:28,  3.15s/it]"
     ]
    },
    {
     "name": "stdout",
     "output_type": "stream",
     "text": [
      " Validion Loss: 0.6168823046020314\n",
      " Train Epoch: 12/20 [51072/60000 (85%)]\tLoss: 0.623872\r"
     ]
    },
    {
     "name": "stderr",
     "output_type": "stream",
     "text": [
      " 60%|██████    | 12/20 [00:37<00:25,  3.16s/it]"
     ]
    },
    {
     "name": "stdout",
     "output_type": "stream",
     "text": [
      " Validion Loss: 0.6161797476720207\n",
      " Train Epoch: 13/20 [51072/60000 (85%)]\tLoss: 0.622144\r"
     ]
    },
    {
     "name": "stderr",
     "output_type": "stream",
     "text": [
      " 65%|██████▌   | 13/20 [00:40<00:22,  3.18s/it]"
     ]
    },
    {
     "name": "stdout",
     "output_type": "stream",
     "text": [
      " Validion Loss: 0.6147392731678637\n",
      " Train Epoch: 14/20 [51072/60000 (85%)]\tLoss: 0.635082\r"
     ]
    },
    {
     "name": "stderr",
     "output_type": "stream",
     "text": [
      " 70%|███████   | 14/20 [00:43<00:19,  3.17s/it]"
     ]
    },
    {
     "name": "stdout",
     "output_type": "stream",
     "text": [
      " Validion Loss: 0.6154736770859247\n",
      " Train Epoch: 15/20 [51072/60000 (85%)]\tLoss: 0.627957\r"
     ]
    },
    {
     "name": "stderr",
     "output_type": "stream",
     "text": [
      " 75%|███████▌  | 15/20 [00:46<00:16,  3.22s/it]"
     ]
    },
    {
     "name": "stdout",
     "output_type": "stream",
     "text": [
      " Validion Loss: 0.6160034620309178\n",
      " Train Epoch: 16/20 [51072/60000 (85%)]\tLoss: 0.595614\r"
     ]
    },
    {
     "name": "stderr",
     "output_type": "stream",
     "text": [
      " 80%|████████  | 16/20 [00:50<00:12,  3.19s/it]"
     ]
    },
    {
     "name": "stdout",
     "output_type": "stream",
     "text": [
      " Validion Loss: 0.6154555444475971\n",
      " Train Epoch: 17/20 [51072/60000 (85%)]\tLoss: 0.615244\r"
     ]
    },
    {
     "name": "stderr",
     "output_type": "stream",
     "text": [
      " 85%|████████▌ | 17/20 [00:53<00:09,  3.16s/it]"
     ]
    },
    {
     "name": "stdout",
     "output_type": "stream",
     "text": [
      " Validion Loss: 0.6151369795014586\n",
      " Train Epoch: 18/20 [51072/60000 (85%)]\tLoss: 0.610300\r"
     ]
    },
    {
     "name": "stderr",
     "output_type": "stream",
     "text": [
      " 90%|█████████ | 18/20 [00:56<00:06,  3.14s/it]"
     ]
    },
    {
     "name": "stdout",
     "output_type": "stream",
     "text": [
      " Validion Loss: 0.6152783307848098\n",
      " Train Epoch: 19/20 [51072/60000 (85%)]\tLoss: 0.612640\r"
     ]
    },
    {
     "name": "stderr",
     "output_type": "stream",
     "text": [
      " 95%|█████████▌| 19/20 [00:59<00:03,  3.16s/it]"
     ]
    },
    {
     "name": "stdout",
     "output_type": "stream",
     "text": [
      " Validion Loss: 0.6153503105610232\n",
      " Train Epoch: 20/20 [51072/60000 (85%)]\tLoss: 0.601384\r"
     ]
    },
    {
     "name": "stderr",
     "output_type": "stream",
     "text": [
      "100%|██████████| 20/20 [01:02<00:00,  3.13s/it]"
     ]
    },
    {
     "name": "stdout",
     "output_type": "stream",
     "text": [
      " Validion Loss: 0.6152682040311113\n"
     ]
    },
    {
     "name": "stderr",
     "output_type": "stream",
     "text": [
      "\n"
     ]
    }
   ],
   "source": [
    "trainer = Trainer(autoencoder, train_dl, test_dl, loss_func, opt, n_epochs, device)\n",
    "trainer.fit()"
   ]
  },
  {
   "cell_type": "code",
   "execution_count": null,
   "metadata": {},
   "outputs": [
    {
     "data": {
      "text/plain": [
       "<All keys matched successfully>"
      ]
     },
     "execution_count": null,
     "metadata": {},
     "output_type": "execute_result"
    }
   ],
   "source": [
    "PATH = \"runs/20221202_000258/model_19\"\n",
    "device = torch.device('cpu')\n",
    "model = AutoEncoder()\n",
    "model.load_state_dict(torch.load(PATH, map_location=device))"
   ]
  },
  {
   "cell_type": "code",
   "execution_count": null,
   "metadata": {},
   "outputs": [
    {
     "data": {
      "image/png": "[encoded data removed]",
      "text/plain": [
       "<Figure size 100x100 with 1 Axes>"
      ]
     },
     "metadata": {},
     "output_type": "display_data"
    },
    {
     "name": "stdout",
     "output_type": "stream",
     "text": [
      "torch.Size([784]) torch.FloatTensor\n"
     ]
    },
    {
     "data": {
      "image/png": "[encoded data removed]",
      "text/plain": [
       "<Figure size 100x100 with 1 Axes>"
      ]
     },
     "metadata": {},
     "output_type": "display_data"
    }
   ],
   "source": [
    "from slg_generative.data.datasets import FashionMnistDataset\n",
    "from matplotlib import pyplot as plt\n",
    "ds = FashionMnistDataset(\"~/Data/fashion-mnist/fashion-mnist_train.csv\")\n",
    "idx = 10\n",
    "x, y = ds[idx]\n",
    "ds.show(idx)\n",
    "model.eval()\n",
    "x_hat = model(x)\n",
    "print(x_hat.shape, x_hat.type())\n",
    "plt.figure(figsize = (1, 1))\n",
    "plt.imshow(x_hat.detach().numpy().reshape(28,28),cmap='gray')\n",
    "plt.show()"
   ]
  },
  {
   "cell_type": "code",
   "execution_count": null,
   "metadata": {},
   "outputs": [],
   "source": [
    "#| hide\n",
    "import nbdev; nbdev.nbdev_export()"
   ]
  }
 ],
 "metadata": {
  "kernelspec": {
   "display_name": "Python 3.10.8 ('base')",
   "language": "python",
   "name": "python3"
  }
 },
 "nbformat": 4,
 "nbformat_minor": 2
}
