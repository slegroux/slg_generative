{
 "cells": [
  {
   "cell_type": "markdown",
   "metadata": {},
   "source": [
    "# Training\n",
    "> training loop"
   ]
  },
  {
   "cell_type": "code",
   "execution_count": null,
   "metadata": {},
   "outputs": [],
   "source": [
    "#| default_exp training"
   ]
  },
  {
   "cell_type": "code",
   "execution_count": null,
   "metadata": {},
   "outputs": [],
   "source": [
    "#| hide\n",
    "%load_ext autoreload\n",
    "%autoreload 2\n",
    "from nbdev.showdoc import *"
   ]
  },
  {
   "cell_type": "code",
   "execution_count": null,
   "metadata": {},
   "outputs": [],
   "source": [
    "#| export\n",
    "from slg_generative.models.vae import AutoEncoder\n",
    "from slg_generative.data.datasets import FashionMnistDataset\n",
    "from torch.utils.data import DataLoader\n",
    "from torch.optim import Adam\n",
    "import torch.nn as nn\n",
    "from tqdm import tqdm\n",
    "import torch"
   ]
  },
  {
   "cell_type": "code",
   "execution_count": null,
   "metadata": {},
   "outputs": [],
   "source": [
    "#| export\n",
    "\n",
    "class Trainer:\n",
    "    \"Trainer for VAE models\"\n",
    "\n",
    "    def __init__(self,\n",
    "        model:AutoEncoder, # Model\n",
    "        dataloader:torch.utils.data.DataLoader, # Dataloader\n",
    "        loss_func:torch.nn.modules.loss._Loss, # Loss function\n",
    "        optimizer:torch.optim.Optimizer, # Optimizer\n",
    "        n_epochs:int, # Number of training epochs\n",
    "        device:str # Device\n",
    "    ):\n",
    "        self.model = model\n",
    "        self.dataloader = dataloader\n",
    "        self.loss_func = loss_func\n",
    "        self.optimizer = optimizer\n",
    "        self.n_epochs = n_epochs\n",
    "        self.device = device\n",
    "\n",
    "    def fit(self):\n",
    "        # training loop\n",
    "        for epoch in tqdm(range(self.n_epochs)):\n",
    "            for batch_idx, (x,y) in enumerate(self.dataloader):\n",
    "                x = x.to(self.device)\n",
    "                self.optimizer.zero_grad()\n",
    "                x_hat = self.model(x)\n",
    "                loss = self.loss_func(x_hat, x)\n",
    "                loss.backward()\n",
    "                self.optimizer.step()\n",
    "                if batch_idx % 100:\n",
    "                    print('\\r Train Epoch: {}/{} [{}/{} ({:.0f}%)]\\tLoss: {:.6f}'.format(\n",
    "                        epoch+1,\n",
    "                        self.n_epochs,\n",
    "                        batch_idx * len(x), \n",
    "                        len(self.dataloader.dataset),\n",
    "                        100. * batch_idx / len(self.dataloader), \n",
    "                        loss.cpu().data.item()), \n",
    "                        end='')\n"
   ]
  },
  {
   "cell_type": "code",
   "execution_count": null,
   "metadata": {},
   "outputs": [],
   "source": [
    "# device\n",
    "# device = 'mps' if torch.backends.mps.is_available() else 'cpu' # or 'cuda' for nvidia gpus\n",
    "device = 'cpu'\n",
    "# data\n",
    "ds = FashionMnistDataset(csv_file=\"~/Data/fashion-mnist/fashion-mnist_train.csv\")\n",
    "dl = torch.utils.data.DataLoader(ds,batch_size=128,shuffle=True)\n",
    "# model\n",
    "autoencoder = AutoEncoder().to(device)\n",
    "# training params\n",
    "n_epochs = 5\n",
    "# optim\n",
    "opt = Adam(autoencoder.parameters(), lr=1e-3)\n",
    "# # mean square error loss \n",
    "loss_func = nn.MSELoss()"
   ]
  },
  {
   "cell_type": "code",
   "execution_count": null,
   "metadata": {},
   "outputs": [
    {
     "name": "stderr",
     "output_type": "stream",
     "text": [
      "  0%|          | 0/5 [00:00<?, ?it/s]"
     ]
    },
    {
     "name": "stdout",
     "output_type": "stream",
     "text": [
      " Train Epoch: 1/5 [59776/60000 (100%)]\tLoss: 0.634618"
     ]
    },
    {
     "name": "stderr",
     "output_type": "stream",
     "text": [
      " 20%|██        | 1/5 [00:04<00:19,  4.86s/it]"
     ]
    },
    {
     "name": "stdout",
     "output_type": "stream",
     "text": [
      " Train Epoch: 2/5 [56960/60000 (95%)]\tLoss: 0.6342823"
     ]
    },
    {
     "name": "stderr",
     "output_type": "stream",
     "text": [
      " 40%|████      | 2/5 [00:07<00:10,  3.64s/it]"
     ]
    },
    {
     "name": "stdout",
     "output_type": "stream",
     "text": [
      " Train Epoch: 3/5 [57984/60000 (97%)]\tLoss: 0.6208118"
     ]
    },
    {
     "name": "stderr",
     "output_type": "stream",
     "text": [
      " 60%|██████    | 3/5 [00:10<00:06,  3.26s/it]"
     ]
    },
    {
     "name": "stdout",
     "output_type": "stream",
     "text": [
      " Train Epoch: 4/5 [59008/60000 (98%)]\tLoss: 0.6307802"
     ]
    },
    {
     "name": "stderr",
     "output_type": "stream",
     "text": [
      " 80%|████████  | 4/5 [00:13<00:03,  3.08s/it]"
     ]
    },
    {
     "name": "stdout",
     "output_type": "stream",
     "text": [
      " Train Epoch: 5/5 [57216/60000 (95%)]\tLoss: 0.6383358"
     ]
    },
    {
     "name": "stderr",
     "output_type": "stream",
     "text": [
      "100%|██████████| 5/5 [00:16<00:00,  3.20s/it]"
     ]
    },
    {
     "name": "stdout",
     "output_type": "stream",
     "text": [
      " Train Epoch: 5/5 [44928/60000 (100%)]\tLoss: 0.604993"
     ]
    },
    {
     "name": "stderr",
     "output_type": "stream",
     "text": [
      "\n"
     ]
    }
   ],
   "source": [
    "trainer = Trainer(autoencoder, dl, loss_func, opt, n_epochs, device)\n",
    "trainer.fit()"
   ]
  },
  {
   "cell_type": "code",
   "execution_count": null,
   "metadata": {},
   "outputs": [],
   "source": [
    "#| hide\n",
    "import nbdev; nbdev.nbdev_export()"
   ]
  },
  {
   "cell_type": "markdown",
   "metadata": {},
   "source": []
  }
 ],
 "metadata": {
  "kernelspec": {
   "display_name": "Python 3.10.6 ('base')",
   "language": "python",
   "name": "python3"
  }
 },
 "nbformat": 4,
 "nbformat_minor": 2
}
