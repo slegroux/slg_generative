{
 "cells": [
  {
   "cell_type": "markdown",
   "metadata": {},
   "source": [
    "# VAE Model\n",
    "> implements simple version of Variational AutoEncoder (VAE) for educational purposes"
   ]
  },
  {
   "cell_type": "code",
   "execution_count": null,
   "metadata": {},
   "outputs": [],
   "source": [
    "#| default_exp models.vae"
   ]
  },
  {
   "cell_type": "code",
   "execution_count": null,
   "metadata": {},
   "outputs": [],
   "source": [
    "#| hide\n",
    "%load_ext autoreload\n",
    "%autoreload 2\n",
    "from nbdev.showdoc import *\n"
   ]
  },
  {
   "cell_type": "code",
   "execution_count": null,
   "metadata": {},
   "outputs": [],
   "source": [
    "#| export\n",
    "\n",
    "# from matplotlib import pyplot as plt\n",
    "# import numpy as np\n",
    "import torch\n",
    "import torch.nn as nn\n",
    "from slg_generative.data.datasets import FashionMnistDataset\n",
    "\n",
    "# from torch.optim import Adam\n",
    "# from tqdm import tqdm\n",
    "# import torch.nn.functional as F\n",
    "# from torch.utils.data import Dataset, DataLoader\n",
    "# import ipdb\n",
    "# import torchvision\n",
    "\n",
    "SEED = 42\n",
    "# np.random.seed(SEED)\n",
    "torch.manual_seed(SEED)\n",
    "torch.cuda.manual_seed(SEED)\n",
    "torch.backends.cudnn.deterministic = True"
   ]
  },
  {
   "cell_type": "code",
   "execution_count": null,
   "metadata": {},
   "outputs": [],
   "source": [
    "#| hide\n",
    "device = 'mps' if torch.backends.mps.is_available() else 'cpu'"
   ]
  },
  {
   "cell_type": "code",
   "execution_count": null,
   "metadata": {},
   "outputs": [],
   "source": [
    "#| export\n",
    "\n",
    "class AEEncoder(nn.Module):\n",
    "    \"Simple AE Encoder\"\n",
    "    \n",
    "    def __init__(self,\n",
    "        input_dim:int=784, # Input dimension\n",
    "        hidden_dim:int=512, # Hidden dimension\n",
    "        latent_dim:int=2 # Latent dimension\n",
    "        ):\n",
    "        super().__init__()\n",
    "        self.layer1 = nn.Linear(input_dim, hidden_dim)\n",
    "        self.layer2 = nn.Linear(hidden_dim, latent_dim)        \n",
    "\n",
    "    def forward(self,\n",
    "        x:torch.FloatTensor # B x D\n",
    "        )->torch.FloatTensor: # B xD\n",
    "        seq = nn.Sequential(self.layer1, nn.ReLU(), self.layer2, nn.ReLU())\n",
    "        z = seq(x)\n",
    "        return z\n"
   ]
  },
  {
   "cell_type": "code",
   "execution_count": null,
   "metadata": {},
   "outputs": [
    {
     "name": "stdout",
     "output_type": "stream",
     "text": [
      "latent output shape torch.Size([128, 2]), torch.FloatTensor\n"
     ]
    }
   ],
   "source": [
    "ds = FashionMnistDataset(\"~/Data/fashion-mnist/fashion-mnist_train.csv\")\n",
    "dl = torch.utils.data.DataLoader(ds, batch_size=128, shuffle=True)\n",
    "X, y = next(iter(dl))\n",
    "e = AEEncoder(input_dim=784, hidden_dim=512, latent_dim=2)\n",
    "ee = e(X)\n",
    "print(f\"latent output shape {ee.shape}, {ee.type()}\")"
   ]
  },
  {
   "cell_type": "code",
   "execution_count": null,
   "metadata": {},
   "outputs": [],
   "source": [
    "#| export\n",
    "\n",
    "class AEDecoder(nn.Module):\n",
    "  \"Decoder\"\n",
    "  \n",
    "  def __init__(self,\n",
    "    latent_dim=2, # Latent dimension\n",
    "    hidden_dim=512, # Hidden dimension\n",
    "    output_dim=784, # Output dimension\n",
    "    ):\n",
    "    super().__init__()\n",
    "    self.layer1 = nn.Linear(latent_dim, hidden_dim)\n",
    "    self.layer2 = nn.Linear(hidden_dim, output_dim)\n",
    "\n",
    "  def forward(self,\n",
    "    z:torch.Tensor # Latent variables\n",
    "    )->torch.Tensor: # Image output\n",
    "    seq = nn.Sequential(self.layer1, nn.ReLU(), self.layer2, nn.Sigmoid())\n",
    "    x = seq(z)\n",
    "    return(x)"
   ]
  },
  {
   "cell_type": "code",
   "execution_count": null,
   "metadata": {},
   "outputs": [
    {
     "name": "stdout",
     "output_type": "stream",
     "text": [
      "torch.Size([128, 784])\n"
     ]
    }
   ],
   "source": [
    "d = AEDecoder(latent_dim=2, hidden_dim=512, output_dim=784)\n",
    "dd = d(ee)\n",
    "print(dd.shape)"
   ]
  },
  {
   "cell_type": "code",
   "execution_count": null,
   "metadata": {},
   "outputs": [],
   "source": [
    "#| export\n",
    "\n",
    "class AutoEncoder(nn.Module):\n",
    "  \"autoencoder\"\n",
    "\n",
    "  def __init__(self,\n",
    "    input_dim=784, # Output dimension\n",
    "    hidden_dim=512, # Hidden dimension\n",
    "    latent_dim=2, # Latent dimension\n",
    "    ):\n",
    "    super().__init__()\n",
    "    self.encoder = AEEncoder(input_dim=input_dim, hidden_dim=hidden_dim,latent_dim=latent_dim)\n",
    "    self.decoder = AEDecoder(latent_dim=latent_dim, hidden_dim=hidden_dim, output_dim=input_dim)\n",
    "  \n",
    "  def forward(self, x:torch.Tensor)->torch.Tensor:\n",
    "    z = self.encoder(x)\n",
    "    return self.decoder(z)"
   ]
  },
  {
   "cell_type": "code",
   "execution_count": null,
   "metadata": {},
   "outputs": [
    {
     "name": "stdout",
     "output_type": "stream",
     "text": [
      "torch.Size([128, 784])\n"
     ]
    }
   ],
   "source": [
    "ae = AutoEncoder(input_dim=784, hidden_dim=512, latent_dim=2)\n",
    "out = ae(X)\n",
    "print(out.shape)"
   ]
  },
  {
   "cell_type": "code",
   "execution_count": null,
   "metadata": {},
   "outputs": [],
   "source": [
    "#| hide\n",
    "import nbdev; nbdev.nbdev_export()"
   ]
  }
 ],
 "metadata": {
  "kernelspec": {
   "display_name": "Python 3.10.8 64-bit",
   "language": "python",
   "name": "python3"
  }
 },
 "nbformat": 4,
 "nbformat_minor": 4
}
